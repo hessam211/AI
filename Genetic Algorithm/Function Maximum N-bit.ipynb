{
 "cells": [
  {
   "cell_type": "markdown",
   "metadata": {},
   "source": [
    "# Problem: We want to find a N-bit number that is Maximum for our desired function"
   ]
  },
  {
   "cell_type": "raw",
   "metadata": {},
   "source": [
    "I will try different Fitness calculation, random selection and mutation technics."
   ]
  },
  {
   "cell_type": "code",
   "execution_count": 2,
   "metadata": {},
   "outputs": [],
   "source": [
    "import numpy as np\n",
    "import random\n",
    "import matplotlib.pyplot as plt\n",
    "import pandas as pd\n",
    "import time"
   ]
  },
  {
   "cell_type": "code",
   "execution_count": 12,
   "metadata": {},
   "outputs": [],
   "source": [
    "population_size = 20\n",
    "bit_size = 5\n",
    "mutation_chance = 0.1"
   ]
  },
  {
   "cell_type": "markdown",
   "metadata": {},
   "source": [
    "I will define different functions in this so I can compare which one is actually better"
   ]
  },
  {
   "cell_type": "code",
   "execution_count": 103,
   "metadata": {},
   "outputs": [],
   "source": [
    "class PogChampFunction():\n",
    "    def __init__(self, pop_size, b_size, mut_chance):\n",
    "        self.pop_size = pop_size\n",
    "        self.b_size = b_size\n",
    "        self.m_ch = mut_chance\n",
    "        \n",
    "    #This function will initialize a random population \n",
    "    def InitPop(self):\n",
    "        np.random.seed(round(time.time()))  \n",
    "        pop=np.random.random_integers(0, 1, (self.pop_size, self.b_size))\n",
    "        return pop\n",
    "    \n",
    "    #I wrote two different fitness function for 2 different functions \n",
    "    def FitnessForFirstFunction(self, pop): #f(x) = 𝑥0 + 2𝑥1 + 4𝑥2 + 8𝑥3 - 16𝑥4\n",
    "        fit_arr=np.zeros(self.pop_size).astype(int)\n",
    "        for k in range(self.pop_size):\n",
    "            fit_arr[k] = pop[k][0] + (pop[k][1] * 2) + (pop[k][2] * 4) + (pop[k][3] * 8) - (pop[k][4] * 16)\n",
    "        return fit_arr\n",
    "    \n",
    "    def FitnessForSecondFunction(self, pop): #f(x) = 1 when u(x)≥4 f(x)= 0.6−0.2u(x) when u(x)<4,  u(x)= 𝑥0+𝑥1+𝑥2+𝑥3\n",
    "        fit_arr=np.zeros(self.pop_size).astype(int)\n",
    "        for k in range(self.pop_size):\n",
    "            u = pop[k][0] + pop[k][1] + pop[k][2] + pop[k][3]\n",
    "            if u >= 4:\n",
    "                fit_arr[k] = 1\n",
    "            else:\n",
    "                fit_arr[k] = 0.6 - 0.2 * u\n",
    "        return fit_arr\n",
    "    \n",
    "    #Now we get define our crossover function\n",
    "    def Crossover(self, x, y):\n",
    "        random.seed(a=None)\n",
    "        pivot = random.randint(0, self.b_size - 1)\n",
    "        t = np.zeros(self.b_size).astype(int)\n",
    "        t = np.concatenate((x[0:pivot],y[pivot:self.b_size]))\n",
    "        return t\n",
    "    \n",
    "    #this will mutate with random numbers and random value in each select random\n",
    "    def MutateWithRandomNumbers(self, pop):\n",
    "        random.seed(a=None)\n",
    "        for k in range(self.pop_size):\n",
    "            if(random.random() < self.m_ch):\n",
    "                mu_count = random.randint(0, int((self.b_size-1)/2))\n",
    "                t=[]\n",
    "                for i in range(mu_count):\n",
    "                    pos = random.randint(0, self.b_size-1)\n",
    "                    if pos not in t:\n",
    "                        t.append(pos)\n",
    "                        pop[k][pos] = random.randint(0, 1)\n",
    "        return pop\n",
    "    \n",
    "    #I will swap two bits\n",
    "    def MutateWithSwap(self, pop):\n",
    "        random.seed(a=None)\n",
    "        for k in range(self.pop_size):\n",
    "            if(random.random() < self.m_ch):\n",
    "                f1 = 0\n",
    "                f2 = 0 \n",
    "                while f1 == f2:   #just to make sure we don't crossover the nodes that have been eliminated\n",
    "                    f1= random.randint(0, self.b_size-1)\n",
    "                    f2= random.randint(0, self.b_size-1)\n",
    "                tmp = pop[k][f1]\n",
    "                pop[k][f1] = pop[k][f2]                \n",
    "                pop[k][f2] = tmp\n",
    "        return pop\n",
    "    \n",
    "    #I will just reverse a single bit\n",
    "    def MutateWithBitChange(self, pop):\n",
    "        random.seed(a=None)\n",
    "        for k in range(self.pop_size):\n",
    "            if(random.random() < self.m_ch):\n",
    "                pos = random.randint(0, self.b_size-1)\n",
    "                if pop[k][pos] == 1:\n",
    "                    pop[k][pos] = 0\n",
    "                else:\n",
    "                    pop[k][pos] = 1\n",
    "        return pop\n",
    "    \n",
    "    #I will implement two random selection first I will just use the fitness score\n",
    "    #Max fitness is the summation of all fitnesses\n",
    "    def RandomSelectionWithFitnessPercentage(self, pop, max_fitness, fit_arr, minimum_fitness):\n",
    "        x=[]\n",
    "        random.seed(a=None)\n",
    "        for i in range(self.pop_size):\n",
    "            chance=(fit_arr[i] + 2 * abs(minimum_fitness))/(max_fitness + 2 * abs(minimum_fitness))   #since fitness can be negative we add twice the minimum to it\n",
    "            if(random.random() < chance):\n",
    "                x.append(i)\n",
    "        return x\n",
    "    \n",
    "    def RandomSelectionWithRanks(self, pop, fit_arr):\n",
    "        x=[]\n",
    "        random.seed(a=None)\n",
    "        fsr = sorted(fit_arr, reverse=True) #reverse sorted fitness \n",
    "        for i in range(self.pop_size):\n",
    "            index = fsr.index(fit_arr[i])\n",
    "            chance= index / ( self.pop_size)   #since fitness can be negative we add twice the minimum to it\n",
    "            if(random.random() < chance):\n",
    "                x.append(i)\n",
    "        return x    \n",
    "    \n",
    "\n",
    "    "
   ]
  },
  {
   "cell_type": "markdown",
   "metadata": {},
   "source": [
    "# For First function with bit change random selection with ranks"
   ]
  },
  {
   "cell_type": "code",
   "execution_count": 101,
   "metadata": {},
   "outputs": [
    {
     "name": "stderr",
     "output_type": "stream",
     "text": [
      "C:\\ProgramData\\Anaconda3\\lib\\site-packages\\ipykernel_launcher.py:10: DeprecationWarning: This function is deprecated. Please call randint(0, 1 + 1) instead\n",
      "  # Remove the CWD from sys.path while we load stuff.\n"
     ]
    },
    {
     "name": "stdout",
     "output_type": "stream",
     "text": [
      "[15  2  5  5  4  8  7  7  5  3  7  2  7  4  4  8 15  6  4 -6]\n",
      "last best is:  [1 1 1 1 0]\n",
      "run_time is: 0.23055815696716309\n"
     ]
    }
   ],
   "source": [
    "s_t=time.time()\n",
    "t = PogChampFunction(population_size, bit_size, mutation_chance)\n",
    "pop = t.InitPop()\n",
    "k = t.FitnessForFirstFunction(pop)\n",
    "old_max = np.amax(k)\n",
    "ind = k.tolist().index(old_max)\n",
    "old_best = pop[ind]\n",
    "iterations = 0 \n",
    "while iterations < 500:\n",
    "    max_fitness = abs(np.sum(k))\n",
    "    min_fitness = np.amin(k)\n",
    "    #x = t.RandomSelectionWithFitnessPercentage(pop, max_fitness, k, min_fitness)\n",
    "    x = t.RandomSelectionWithRanks(pop, k)\n",
    "    f1=0\n",
    "    f2=0\n",
    "    for i in k:\n",
    "        if len(x) > 10:\n",
    "            break\n",
    "        while f1 == f2 or f1 in x or f2 in x:   #just to make sure we don't crossover the nodes that have been eliminated\n",
    "            f1= random.randint(0, population_size-1)\n",
    "            f2= random.randint(0, population_size-1)\n",
    "        if i < population_size:                  \n",
    "            pop[i]=t.Crossover(pop[f1],pop[f2])\n",
    "    t.MutateWithBitChange(pop)\n",
    "    x.clear\n",
    "    k = t.FitnessForFirstFunction(pop)\n",
    "    new_max = np.amax(k)\n",
    "    if new_max > old_max:\n",
    "        old_max = new_max\n",
    "        index = k.tolist().index(new_max)\n",
    "        print(k)\n",
    "        print(\"last best is: \", pop[index])\n",
    "        iterations = 0\n",
    "    else:\n",
    "        iterations += 1\n",
    "        \n",
    "e_t=time.time()\n",
    "print(\"run_time is:\", e_t- s_t)"
   ]
  },
  {
   "cell_type": "markdown",
   "metadata": {},
   "source": [
    "# For First function with bit swap random selection with ranks"
   ]
  },
  {
   "cell_type": "code",
   "execution_count": 111,
   "metadata": {},
   "outputs": [
    {
     "name": "stderr",
     "output_type": "stream",
     "text": [
      "C:\\ProgramData\\Anaconda3\\lib\\site-packages\\ipykernel_launcher.py:10: DeprecationWarning: This function is deprecated. Please call randint(0, 1 + 1) instead\n",
      "  # Remove the CWD from sys.path while we load stuff.\n"
     ]
    },
    {
     "name": "stdout",
     "output_type": "stream",
     "text": [
      "[ 11 -15  -5   3  11 -11   3  11  -5  11  -5   3 -14  -2   3   3   3  14\n",
      "   3 -14]\n",
      "last best is:  [0 1 1 1 0]\n",
      "[ 11 -14  -5  -5  13  11  15  14  -5  -5  -5  15 -14  11  11  15   6  14\n",
      "  11   6]\n",
      "last best is:  [1 1 1 1 0]\n",
      "run_time is: 0.25850391387939453\n"
     ]
    }
   ],
   "source": [
    "s_t=time.time()\n",
    "t = PogChampFunction(population_size, bit_size, mutation_chance)\n",
    "pop = t.InitPop()\n",
    "k = t.FitnessForFirstFunction(pop)\n",
    "old_max = np.amax(k)\n",
    "ind = k.tolist().index(old_max)\n",
    "old_best = pop[ind]\n",
    "iterations = 0 \n",
    "while iterations < 500:\n",
    "    max_fitness = abs(np.sum(k))\n",
    "    min_fitness = np.amin(k)\n",
    "    #x = t.RandomSelectionWithFitnessPercentage(pop, max_fitness, k, min_fitness)\n",
    "    x = t.RandomSelectionWithRanks(pop, k)\n",
    "    f1=0\n",
    "    f2=0\n",
    "    for i in k:\n",
    "        if len(x) > 10:\n",
    "            break\n",
    "        while f1 == f2 or f1 in x or f2 in x:   #just to make sure we don't crossover the nodes that have been eliminated\n",
    "            f1= random.randint(0, population_size-1)\n",
    "            f2= random.randint(0, population_size-1)\n",
    "        if i < population_size:                  \n",
    "            pop[i]=t.Crossover(pop[f1],pop[f2])\n",
    "    t.MutateWithSwap(pop)\n",
    "    x.clear\n",
    "    k = t.FitnessForFirstFunction(pop)\n",
    "    new_max = np.amax(k)\n",
    "    if new_max > old_max:\n",
    "        old_max = new_max\n",
    "        index = k.tolist().index(new_max)\n",
    "        print(k)\n",
    "        print(\"last best is: \", pop[index])\n",
    "        iterations = 0\n",
    "    else:\n",
    "        iterations += 1\n",
    "        \n",
    "e_t=time.time()\n",
    "print(\"run_time is:\", e_t- s_t)"
   ]
  },
  {
   "cell_type": "markdown",
   "metadata": {},
   "source": [
    "# For First function with bit random and random selection with ranks"
   ]
  },
  {
   "cell_type": "code",
   "execution_count": 112,
   "metadata": {},
   "outputs": [
    {
     "name": "stderr",
     "output_type": "stream",
     "text": [
      "C:\\ProgramData\\Anaconda3\\lib\\site-packages\\ipykernel_launcher.py:10: DeprecationWarning: This function is deprecated. Please call randint(0, 1 + 1) instead\n",
      "  # Remove the CWD from sys.path while we load stuff.\n"
     ]
    },
    {
     "name": "stdout",
     "output_type": "stream",
     "text": [
      "[-16  -2   7  -8  14 -16 -16  -2 -16 -16 -16  -2  -2  -6  -2  -2  -1  -9\n",
      "  -2  -2]\n",
      "last best is:  [0 1 1 1 0]\n",
      "[-16  -2   7  -8  -2  -6 -16  -2 -16 -15  -8  -2  -2  -2  -9  14  15  -9\n",
      "  -2  -2]\n",
      "last best is:  [1 1 1 1 0]\n",
      "run_time is: 0.2465500831604004\n"
     ]
    }
   ],
   "source": [
    "s_t=time.time()\n",
    "t = PogChampFunction(population_size, bit_size, mutation_chance)\n",
    "pop = t.InitPop()\n",
    "k = t.FitnessForFirstFunction(pop)\n",
    "old_max = np.amax(k)\n",
    "ind = k.tolist().index(old_max)\n",
    "old_best = pop[ind]\n",
    "iterations = 0 \n",
    "while iterations < 500:\n",
    "    max_fitness = abs(np.sum(k))\n",
    "    min_fitness = np.amin(k)\n",
    "    #x = t.RandomSelectionWithFitnessPercentage(pop, max_fitness, k, min_fitness)\n",
    "    x = t.RandomSelectionWithRanks(pop, k)\n",
    "    f1=0\n",
    "    f2=0\n",
    "    for i in k:\n",
    "        if len(x) > 10:\n",
    "            break\n",
    "        while f1 == f2 or f1 in x or f2 in x:   #just to make sure we don't crossover the nodes that have been eliminated\n",
    "            f1= random.randint(0, population_size-1)\n",
    "            f2= random.randint(0, population_size-1)\n",
    "        if i < population_size:                  \n",
    "            pop[i]=t.Crossover(pop[f1],pop[f2])\n",
    "    t.MutateWithRandomNumbers(pop)\n",
    "    x.clear\n",
    "    k = t.FitnessForFirstFunction(pop)\n",
    "    new_max = np.amax(k)\n",
    "    if new_max > old_max:\n",
    "        old_max = new_max\n",
    "        index = k.tolist().index(new_max)\n",
    "        print(k)\n",
    "        print(\"last best is: \", pop[index])\n",
    "        iterations = 0\n",
    "    else:\n",
    "        iterations += 1\n",
    "        \n",
    "e_t=time.time()\n",
    "print(\"run_time is:\", e_t- s_t)"
   ]
  },
  {
   "cell_type": "markdown",
   "metadata": {},
   "source": [
    "# For First function with bit change random selection with Fitness function"
   ]
  },
  {
   "cell_type": "code",
   "execution_count": 115,
   "metadata": {},
   "outputs": [
    {
     "name": "stdout",
     "output_type": "stream",
     "text": [
      "[ -3 -11 -13  -4  -3  -3  -3   6  15  -4  14  -3  -3  -9  -1  -2  -3   5\n",
      "  -3   6]\n",
      "last best is:  [1 1 1 1 0]\n",
      "run_time is: 0.1851644515991211\n"
     ]
    },
    {
     "name": "stderr",
     "output_type": "stream",
     "text": [
      "C:\\ProgramData\\Anaconda3\\lib\\site-packages\\ipykernel_launcher.py:10: DeprecationWarning: This function is deprecated. Please call randint(0, 1 + 1) instead\n",
      "  # Remove the CWD from sys.path while we load stuff.\n"
     ]
    }
   ],
   "source": [
    "s_t=time.time()\n",
    "t = PogChampFunction(population_size, bit_size, mutation_chance)\n",
    "pop = t.InitPop()\n",
    "k = t.FitnessForFirstFunction(pop)\n",
    "old_max = np.amax(k)\n",
    "ind = k.tolist().index(old_max)\n",
    "old_best = pop[ind]\n",
    "iterations = 0 \n",
    "while iterations < 500:\n",
    "    max_fitness = abs(np.sum(k))\n",
    "    min_fitness = np.amin(k)\n",
    "    x = t.RandomSelectionWithFitnessPercentage(pop, max_fitness, k, min_fitness)\n",
    "    #x = t.RandomSelectionWithRanks(pop, k)\n",
    "    f1=0\n",
    "    f2=0\n",
    "    for i in k:\n",
    "        if len(x) > 10:\n",
    "            break\n",
    "        while f1 == f2 or f1 in x or f2 in x:   #just to make sure we don't crossover the nodes that have been eliminated\n",
    "            f1= random.randint(0, population_size-1)\n",
    "            f2= random.randint(0, population_size-1)\n",
    "        if i < population_size:                  \n",
    "            pop[i]=t.Crossover(pop[f1],pop[f2])\n",
    "    t.MutateWithBitChange(pop)\n",
    "    x.clear\n",
    "    k = t.FitnessForFirstFunction(pop)\n",
    "    new_max = np.amax(k)\n",
    "    if new_max > old_max:\n",
    "        old_max = new_max\n",
    "        index = k.tolist().index(new_max)\n",
    "        print(k)\n",
    "        print(\"last best is: \", pop[index])\n",
    "        iterations = 0\n",
    "    else:\n",
    "        iterations += 1\n",
    "        \n",
    "e_t=time.time()\n",
    "print(\"run_time is:\", e_t- s_t)"
   ]
  },
  {
   "cell_type": "markdown",
   "metadata": {},
   "source": [
    "# For First function with bit swap random selection with Fitness function"
   ]
  },
  {
   "cell_type": "code",
   "execution_count": 117,
   "metadata": {},
   "outputs": [
    {
     "name": "stdout",
     "output_type": "stream",
     "text": [
      "[  1   5   5  12   6   5   5   5   5   5   5   8   5 -16 -14   9   8  13\n",
      " -10   4]\n",
      "last best is:  [1 0 1 1 0]\n",
      "[ 12  12  14  12  14   0  -8 -12  12  14  12   2  12  14   6   9   8  13\n",
      " -10   4]\n",
      "last best is:  [0 1 1 1 0]\n",
      "[-12  13  15  -2  -2  -2   5  -5  -9  -2  -2   4   4  14  -2   3  -3  11\n",
      "  -2   8]\n",
      "last best is:  [1 1 1 1 0]\n",
      "run_time is: 0.1851494312286377\n"
     ]
    },
    {
     "name": "stderr",
     "output_type": "stream",
     "text": [
      "C:\\ProgramData\\Anaconda3\\lib\\site-packages\\ipykernel_launcher.py:10: DeprecationWarning: This function is deprecated. Please call randint(0, 1 + 1) instead\n",
      "  # Remove the CWD from sys.path while we load stuff.\n"
     ]
    }
   ],
   "source": [
    "s_t=time.time()\n",
    "t = PogChampFunction(population_size, bit_size, mutation_chance)\n",
    "pop = t.InitPop()\n",
    "k = t.FitnessForFirstFunction(pop)\n",
    "old_max = np.amax(k)\n",
    "ind = k.tolist().index(old_max)\n",
    "old_best = pop[ind]\n",
    "iterations = 0 \n",
    "while iterations < 500:\n",
    "    max_fitness = abs(np.sum(k))\n",
    "    min_fitness = np.amin(k)\n",
    "    x = t.RandomSelectionWithFitnessPercentage(pop, max_fitness, k, min_fitness)\n",
    "    #x = t.RandomSelectionWithRanks(pop, k)\n",
    "    f1=0\n",
    "    f2=0\n",
    "    for i in k:\n",
    "        if len(x) > 10:\n",
    "            break\n",
    "        while f1 == f2 or f1 in x or f2 in x:   #just to make sure we don't crossover the nodes that have been eliminated\n",
    "            f1= random.randint(0, population_size-1)\n",
    "            f2= random.randint(0, population_size-1)\n",
    "        if i < population_size:                  \n",
    "            pop[i]=t.Crossover(pop[f1],pop[f2])\n",
    "    t.MutateWithSwap(pop)\n",
    "    x.clear\n",
    "    k = t.FitnessForFirstFunction(pop)\n",
    "    new_max = np.amax(k)\n",
    "    if new_max > old_max:\n",
    "        old_max = new_max\n",
    "        index = k.tolist().index(new_max)\n",
    "        print(k)\n",
    "        print(\"last best is: \", pop[index])\n",
    "        iterations = 0\n",
    "    else:\n",
    "        iterations += 1\n",
    "        \n",
    "e_t=time.time()\n",
    "print(\"run_time is:\", e_t- s_t)"
   ]
  },
  {
   "cell_type": "markdown",
   "metadata": {},
   "source": [
    "# For First function with random bit, random selection with Fitness function"
   ]
  },
  {
   "cell_type": "code",
   "execution_count": 119,
   "metadata": {},
   "outputs": [
    {
     "name": "stdout",
     "output_type": "stream",
     "text": [
      "[-12  13  14   5 -15  12  12  -2   8   8  12  12   8   8  -1  12   8   2\n",
      "  12  12]\n",
      "last best is:  [0 1 1 1 0]\n",
      "[-12  13  14   5 -15  13  12  -2  15   8  12  12  13  15  15  12   8   2\n",
      "  -4  13]\n",
      "last best is:  [1 1 1 1 0]\n",
      "run_time is: 0.18965792655944824\n"
     ]
    },
    {
     "name": "stderr",
     "output_type": "stream",
     "text": [
      "C:\\ProgramData\\Anaconda3\\lib\\site-packages\\ipykernel_launcher.py:10: DeprecationWarning: This function is deprecated. Please call randint(0, 1 + 1) instead\n",
      "  # Remove the CWD from sys.path while we load stuff.\n"
     ]
    }
   ],
   "source": [
    "s_t=time.time()\n",
    "t = PogChampFunction(population_size, bit_size, mutation_chance)\n",
    "pop = t.InitPop()\n",
    "k = t.FitnessForFirstFunction(pop)\n",
    "old_max = np.amax(k)\n",
    "ind = k.tolist().index(old_max)\n",
    "old_best = pop[ind]\n",
    "iterations = 0 \n",
    "while iterations < 500:\n",
    "    max_fitness = abs(np.sum(k))\n",
    "    min_fitness = np.amin(k)\n",
    "    x = t.RandomSelectionWithFitnessPercentage(pop, max_fitness, k, min_fitness)\n",
    "    #x = t.RandomSelectionWithRanks(pop, k)\n",
    "    f1=0\n",
    "    f2=0\n",
    "    for i in k:\n",
    "        if len(x) > 10:\n",
    "            break\n",
    "        while f1 == f2 or f1 in x or f2 in x:   #just to make sure we don't crossover the nodes that have been eliminated\n",
    "            f1= random.randint(0, population_size-1)\n",
    "            f2= random.randint(0, population_size-1)\n",
    "        if i < population_size:                  \n",
    "            pop[i]=t.Crossover(pop[f1],pop[f2])\n",
    "    t.MutateWithRandomNumbers(pop)\n",
    "    x.clear\n",
    "    k = t.FitnessForFirstFunction(pop)\n",
    "    new_max = np.amax(k)\n",
    "    if new_max > old_max:\n",
    "        old_max = new_max\n",
    "        index = k.tolist().index(new_max)\n",
    "        print(k)\n",
    "        print(\"last best is: \", pop[index])\n",
    "        iterations = 0\n",
    "    else:\n",
    "        iterations += 1\n",
    "        \n",
    "e_t=time.time()\n",
    "print(\"run_time is:\", e_t- s_t)"
   ]
  },
  {
   "cell_type": "markdown",
   "metadata": {},
   "source": [
    "# Now we go for 2nd function "
   ]
  },
  {
   "cell_type": "code",
   "execution_count": 124,
   "metadata": {},
   "outputs": [],
   "source": [
    "bit_size=4"
   ]
  },
  {
   "cell_type": "markdown",
   "metadata": {},
   "source": [
    "# For second function with bit change random selection with ranks"
   ]
  },
  {
   "cell_type": "code",
   "execution_count": 129,
   "metadata": {},
   "outputs": [
    {
     "name": "stderr",
     "output_type": "stream",
     "text": [
      "C:\\ProgramData\\Anaconda3\\lib\\site-packages\\ipykernel_launcher.py:10: DeprecationWarning: This function is deprecated. Please call randint(0, 1 + 1) instead\n",
      "  # Remove the CWD from sys.path while we load stuff.\n"
     ]
    },
    {
     "name": "stdout",
     "output_type": "stream",
     "text": [
      "[1 0 0 0 0 0 0 0 0 0 0 0 0 0 0 0 0 0 0 0]\n",
      "last best is:  [1 1 1 1]\n",
      "run_time is: 0.26999568939208984\n"
     ]
    }
   ],
   "source": [
    "s_t=time.time()\n",
    "t = PogChampFunction(population_size, bit_size, mutation_chance)\n",
    "pop = t.InitPop()\n",
    "k = t.FitnessForSecondFunction(pop)\n",
    "old_max = np.amax(k)\n",
    "ind = k.tolist().index(old_max)\n",
    "old_best = pop[ind]\n",
    "iterations = 0 \n",
    "while iterations < 500:\n",
    "    max_fitness = abs(np.sum(k))\n",
    "    min_fitness = np.amin(k)\n",
    "    #x = t.RandomSelectionWithFitnessPercentage(pop, max_fitness, k, min_fitness)\n",
    "    x = t.RandomSelectionWithRanks(pop, k)\n",
    "    f1=0\n",
    "    f2=0\n",
    "    for i in k:\n",
    "        if len(x) > 10:\n",
    "            break\n",
    "        while f1 == f2 or f1 in x or f2 in x:   #just to make sure we don't crossover the nodes that have been eliminated\n",
    "            f1= random.randint(0, population_size-1)\n",
    "            f2= random.randint(0, population_size-1)\n",
    "        if i < population_size:                  \n",
    "            pop[i]=t.Crossover(pop[f1],pop[f2])\n",
    "    t.MutateWithBitChange(pop)\n",
    "    x.clear\n",
    "    k = t.FitnessForSecondFunction(pop)\n",
    "    new_max = np.amax(k)\n",
    "    if new_max > old_max:\n",
    "        old_max = new_max\n",
    "        index = k.tolist().index(new_max)\n",
    "        print(k)\n",
    "        print(\"last best is: \", pop[index])\n",
    "        iterations = 0\n",
    "    else:\n",
    "        iterations += 1\n",
    "        \n",
    "e_t=time.time()\n",
    "print(\"run_time is:\", e_t- s_t)"
   ]
  },
  {
   "cell_type": "markdown",
   "metadata": {},
   "source": [
    "# For second function with bit swap random selection with ranks"
   ]
  },
  {
   "cell_type": "code",
   "execution_count": 133,
   "metadata": {},
   "outputs": [
    {
     "name": "stderr",
     "output_type": "stream",
     "text": [
      "C:\\ProgramData\\Anaconda3\\lib\\site-packages\\ipykernel_launcher.py:10: DeprecationWarning: This function is deprecated. Please call randint(0, 1 + 1) instead\n",
      "  # Remove the CWD from sys.path while we load stuff.\n"
     ]
    },
    {
     "name": "stdout",
     "output_type": "stream",
     "text": [
      "[1 0 0 0 0 0 0 0 0 0 0 0 0 0 0 0 0 0 0 0]\n",
      "last best is:  [1 1 1 1]\n",
      "run_time is: 0.2624974250793457\n"
     ]
    }
   ],
   "source": [
    "s_t=time.time()\n",
    "t = PogChampFunction(population_size, bit_size, mutation_chance)\n",
    "pop = t.InitPop()\n",
    "k = t.FitnessForSecondFunction(pop)\n",
    "old_max = np.amax(k)\n",
    "ind = k.tolist().index(old_max)\n",
    "old_best = pop[ind]\n",
    "iterations = 0 \n",
    "while iterations < 500:\n",
    "    max_fitness = abs(np.sum(k))\n",
    "    min_fitness = np.amin(k)\n",
    "    #x = t.RandomSelectionWithFitnessPercentage(pop, max_fitness, k, min_fitness)\n",
    "    x = t.RandomSelectionWithRanks(pop, k)\n",
    "    f1=0\n",
    "    f2=0\n",
    "    for i in k:\n",
    "        if len(x) > 10:\n",
    "            break\n",
    "        while f1 == f2 or f1 in x or f2 in x:   #just to make sure we don't crossover the nodes that have been eliminated\n",
    "            f1= random.randint(0, population_size-1)\n",
    "            f2= random.randint(0, population_size-1)\n",
    "        if i < population_size:                  \n",
    "            pop[i]=t.Crossover(pop[f1],pop[f2])\n",
    "    t.MutateWithSwap(pop)\n",
    "    x.clear\n",
    "    k = t.FitnessForSecondFunction(pop)\n",
    "    new_max = np.amax(k)\n",
    "    if new_max > old_max:\n",
    "        old_max = new_max\n",
    "        index = k.tolist().index(new_max)\n",
    "        print(k)\n",
    "        print(\"last best is: \", pop[index])\n",
    "        iterations = 0\n",
    "    else:\n",
    "        iterations += 1\n",
    "        \n",
    "e_t=time.time()\n",
    "print(\"run_time is:\", e_t- s_t)"
   ]
  },
  {
   "cell_type": "markdown",
   "metadata": {},
   "source": [
    "# For Second function with bit random and random selection with ranks"
   ]
  },
  {
   "cell_type": "code",
   "execution_count": 134,
   "metadata": {},
   "outputs": [
    {
     "name": "stderr",
     "output_type": "stream",
     "text": [
      "C:\\ProgramData\\Anaconda3\\lib\\site-packages\\ipykernel_launcher.py:10: DeprecationWarning: This function is deprecated. Please call randint(0, 1 + 1) instead\n",
      "  # Remove the CWD from sys.path while we load stuff.\n"
     ]
    },
    {
     "name": "stdout",
     "output_type": "stream",
     "text": [
      "[0 0 0 0 0 0 0 0 0 0 0 0 0 0 0 1 0 0 0 0]\n",
      "last best is:  [1 1 1 1]\n",
      "run_time is: 0.26999855041503906\n"
     ]
    }
   ],
   "source": [
    "s_t=time.time()\n",
    "t = PogChampFunction(population_size, bit_size, mutation_chance)\n",
    "pop = t.InitPop()\n",
    "k = t.FitnessForSecondFunction(pop)\n",
    "old_max = np.amax(k)\n",
    "ind = k.tolist().index(old_max)\n",
    "old_best = pop[ind]\n",
    "iterations = 0 \n",
    "while iterations < 500:\n",
    "    max_fitness = abs(np.sum(k))\n",
    "    min_fitness = np.amin(k)\n",
    "    #x = t.RandomSelectionWithFitnessPercentage(pop, max_fitness, k, min_fitness)\n",
    "    x = t.RandomSelectionWithRanks(pop, k)\n",
    "    f1=0\n",
    "    f2=0\n",
    "    for i in k:\n",
    "        if len(x) > 10:\n",
    "            break\n",
    "        while f1 == f2 or f1 in x or f2 in x:   #just to make sure we don't crossover the nodes that have been eliminated\n",
    "            f1= random.randint(0, population_size-1)\n",
    "            f2= random.randint(0, population_size-1)\n",
    "        if i < population_size:                  \n",
    "            pop[i]=t.Crossover(pop[f1],pop[f2])\n",
    "    t.MutateWithRandomNumbers(pop)\n",
    "    x.clear\n",
    "    k = t.FitnessForSecondFunction(pop)\n",
    "    new_max = np.amax(k)\n",
    "    if new_max > old_max:\n",
    "        old_max = new_max\n",
    "        index = k.tolist().index(new_max)\n",
    "        print(k)\n",
    "        print(\"last best is: \", pop[index])\n",
    "        iterations = 0\n",
    "    else:\n",
    "        iterations += 1\n",
    "        \n",
    "e_t=time.time()\n",
    "print(\"run_time is:\", e_t- s_t)"
   ]
  },
  {
   "cell_type": "markdown",
   "metadata": {},
   "source": [
    "# For second function with bit change random selection with Fitness function"
   ]
  },
  {
   "cell_type": "code",
   "execution_count": 138,
   "metadata": {},
   "outputs": [
    {
     "name": "stderr",
     "output_type": "stream",
     "text": [
      "C:\\ProgramData\\Anaconda3\\lib\\site-packages\\ipykernel_launcher.py:10: DeprecationWarning: This function is deprecated. Please call randint(0, 1 + 1) instead\n",
      "  # Remove the CWD from sys.path while we load stuff.\n",
      "C:\\ProgramData\\Anaconda3\\lib\\site-packages\\ipykernel_launcher.py:85: RuntimeWarning: invalid value encountered in long_scalars\n"
     ]
    },
    {
     "name": "stdout",
     "output_type": "stream",
     "text": [
      "[1 0 0 0 0 0 0 0 0 0 0 0 0 0 0 0 0 0 0 0]\n",
      "last best is:  [1 1 1 1]\n",
      "run_time is: 0.2605001926422119\n"
     ]
    }
   ],
   "source": [
    "s_t=time.time()\n",
    "t = PogChampFunction(population_size, bit_size, mutation_chance)\n",
    "pop = t.InitPop()\n",
    "k = t.FitnessForSecondFunction(pop)\n",
    "old_max = np.amax(k)\n",
    "ind = k.tolist().index(old_max)\n",
    "old_best = pop[ind]\n",
    "iterations = 0 \n",
    "while iterations < 500:\n",
    "    max_fitness = abs(np.sum(k))\n",
    "    min_fitness = np.amin(k)\n",
    "    x = t.RandomSelectionWithFitnessPercentage(pop, max_fitness, k, min_fitness)\n",
    "    #x = t.RandomSelectionWithRanks(pop, k)\n",
    "    f1=0\n",
    "    f2=0\n",
    "    for i in k:\n",
    "        if len(x) > 10:\n",
    "            break\n",
    "        while f1 == f2 or f1 in x or f2 in x:   #just to make sure we don't crossover the nodes that have been eliminated\n",
    "            f1= random.randint(0, population_size-1)\n",
    "            f2= random.randint(0, population_size-1)\n",
    "        if i < population_size:                  \n",
    "            pop[i]=t.Crossover(pop[f1],pop[f2])\n",
    "    t.MutateWithBitChange(pop)\n",
    "    x.clear\n",
    "    k = t.FitnessForSecondFunction(pop)\n",
    "    new_max = np.amax(k)\n",
    "    if new_max > old_max:\n",
    "        old_max = new_max\n",
    "        index = k.tolist().index(new_max)\n",
    "        print(k)\n",
    "        print(\"last best is: \", pop[index])\n",
    "        iterations = 0\n",
    "    else:\n",
    "        iterations += 1\n",
    "        \n",
    "e_t=time.time()\n",
    "print(\"run_time is:\", e_t- s_t)"
   ]
  },
  {
   "cell_type": "markdown",
   "metadata": {},
   "source": [
    "# For second function with bit swap random selection with Fitness function"
   ]
  },
  {
   "cell_type": "code",
   "execution_count": 142,
   "metadata": {},
   "outputs": [
    {
     "name": "stderr",
     "output_type": "stream",
     "text": [
      "C:\\ProgramData\\Anaconda3\\lib\\site-packages\\ipykernel_launcher.py:10: DeprecationWarning: This function is deprecated. Please call randint(0, 1 + 1) instead\n",
      "  # Remove the CWD from sys.path while we load stuff.\n",
      "C:\\ProgramData\\Anaconda3\\lib\\site-packages\\ipykernel_launcher.py:85: RuntimeWarning: invalid value encountered in long_scalars\n"
     ]
    },
    {
     "name": "stdout",
     "output_type": "stream",
     "text": [
      "[1 0 0 0 0 0 0 0 0 0 0 0 0 0 0 0 0 0 0 0]\n",
      "last best is:  [1 1 1 1]\n",
      "run_time is: 0.3049447536468506\n"
     ]
    }
   ],
   "source": [
    "s_t=time.time()\n",
    "t = PogChampFunction(population_size, bit_size, mutation_chance)\n",
    "pop = t.InitPop()\n",
    "k = t.FitnessForSecondFunction(pop)\n",
    "old_max = np.amax(k)\n",
    "ind = k.tolist().index(old_max)\n",
    "old_best = pop[ind]\n",
    "iterations = 0 \n",
    "while iterations < 500:\n",
    "    max_fitness = abs(np.sum(k))\n",
    "    min_fitness = np.amin(k)\n",
    "    x = t.RandomSelectionWithFitnessPercentage(pop, max_fitness, k, min_fitness)\n",
    "    #x = t.RandomSelectionWithRanks(pop, k)\n",
    "    f1=0\n",
    "    f2=0\n",
    "    for i in k:\n",
    "        if len(x) > 10:\n",
    "            break\n",
    "        while f1 == f2 or f1 in x or f2 in x:   #just to make sure we don't crossover the nodes that have been eliminated\n",
    "            f1= random.randint(0, population_size-1)\n",
    "            f2= random.randint(0, population_size-1)\n",
    "        if i < population_size:                  \n",
    "            pop[i]=t.Crossover(pop[f1],pop[f2])\n",
    "    t.MutateWithSwap(pop)\n",
    "    x.clear\n",
    "    k = t.FitnessForSecondFunction(pop)\n",
    "    new_max = np.amax(k)\n",
    "    if new_max > old_max:\n",
    "        old_max = new_max\n",
    "        index = k.tolist().index(new_max)\n",
    "        print(k)\n",
    "        print(\"last best is: \", pop[index])\n",
    "        iterations = 0\n",
    "    else:\n",
    "        iterations += 1\n",
    "        \n",
    "e_t=time.time()\n",
    "print(\"run_time is:\", e_t- s_t)"
   ]
  },
  {
   "cell_type": "markdown",
   "metadata": {},
   "source": [
    "# For Second function with random bit, random selection with Fitness function"
   ]
  },
  {
   "cell_type": "code",
   "execution_count": 145,
   "metadata": {},
   "outputs": [
    {
     "name": "stderr",
     "output_type": "stream",
     "text": [
      "C:\\ProgramData\\Anaconda3\\lib\\site-packages\\ipykernel_launcher.py:10: DeprecationWarning: This function is deprecated. Please call randint(0, 1 + 1) instead\n",
      "  # Remove the CWD from sys.path while we load stuff.\n",
      "C:\\ProgramData\\Anaconda3\\lib\\site-packages\\ipykernel_launcher.py:85: RuntimeWarning: invalid value encountered in long_scalars\n"
     ]
    },
    {
     "name": "stdout",
     "output_type": "stream",
     "text": [
      "[0 0 0 0 0 0 0 0 0 1 0 0 0 0 0 0 0 0 0 0]\n",
      "last best is:  [1 1 1 1]\n",
      "run_time is: 0.28748631477355957\n"
     ]
    }
   ],
   "source": [
    "s_t=time.time()\n",
    "t = PogChampFunction(population_size, bit_size, mutation_chance)\n",
    "pop = t.InitPop()\n",
    "k = t.FitnessForSecondFunction(pop)\n",
    "old_max = np.amax(k)\n",
    "ind = k.tolist().index(old_max)\n",
    "old_best = pop[ind]\n",
    "iterations = 0 \n",
    "while iterations < 500:\n",
    "    max_fitness = abs(np.sum(k))\n",
    "    min_fitness = np.amin(k)\n",
    "    x = t.RandomSelectionWithFitnessPercentage(pop, max_fitness, k, min_fitness)\n",
    "    #x = t.RandomSelectionWithRanks(pop, k)\n",
    "    f1=0\n",
    "    f2=0\n",
    "    for i in k:\n",
    "        if len(x) > 10:\n",
    "            break\n",
    "        while f1 == f2 or f1 in x or f2 in x:   #just to make sure we don't crossover the nodes that have been eliminated\n",
    "            f1= random.randint(0, population_size-1)\n",
    "            f2= random.randint(0, population_size-1)\n",
    "        if i < population_size:                  \n",
    "            pop[i]=t.Crossover(pop[f1],pop[f2])\n",
    "    t.MutateWithRandomNumbers(pop)\n",
    "    x.clear\n",
    "    k = t.FitnessForSecondFunction(pop)\n",
    "    new_max = np.amax(k)\n",
    "    if new_max > old_max:\n",
    "        old_max = new_max\n",
    "        index = k.tolist().index(new_max)\n",
    "        print(k)\n",
    "        print(\"last best is: \", pop[index])\n",
    "        iterations = 0\n",
    "    else:\n",
    "        iterations += 1\n",
    "        \n",
    "e_t=time.time()\n",
    "print(\"run_time is:\", e_t- s_t)"
   ]
  },
  {
   "cell_type": "code",
   "execution_count": null,
   "metadata": {},
   "outputs": [],
   "source": []
  }
 ],
 "metadata": {
  "kernelspec": {
   "display_name": "Python 3",
   "language": "python",
   "name": "python3"
  },
  "language_info": {
   "codemirror_mode": {
    "name": "ipython",
    "version": 3
   },
   "file_extension": ".py",
   "mimetype": "text/x-python",
   "name": "python",
   "nbconvert_exporter": "python",
   "pygments_lexer": "ipython3",
   "version": "3.7.1"
  }
 },
 "nbformat": 4,
 "nbformat_minor": 2
}
